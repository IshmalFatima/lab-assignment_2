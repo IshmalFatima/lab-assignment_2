{
 "cells": [
  {
   "cell_type": "code",
   "execution_count": 2,
   "id": "9b82303f-2274-42b3-a27c-429491967fb6",
   "metadata": {},
   "outputs": [
    {
     "name": "stdout",
     "output_type": "stream",
     "text": [
      "The number is positive\n"
     ]
    }
   ],
   "source": [
    "#Q1 \n",
    "# Code to check if a number is positive negitive or zero \n",
    "number=23\n",
    "if number > 0:\n",
    "    print(\"The number is positive\")\n",
    "elif number < 0:\n",
    "    print(\"The number is negative\")\n",
    "else:\n",
    "    print(\"The number is zero\")\n"
   ]
  },
  {
   "cell_type": "code",
   "execution_count": 4,
   "id": "0721bb75-162e-44a7-9fa6-8a411dc08733",
   "metadata": {},
   "outputs": [
    {
     "name": "stdout",
     "output_type": "stream",
     "text": [
      "35 is not a leap year\n"
     ]
    }
   ],
   "source": [
    "#Q2\n",
    "# code to determine whether the given year is leap year or not\n",
    "year=35\n",
    "if year%400==0:\n",
    "    print(f\"{year} is a leap year\")\n",
    "else:\n",
    "    print(f\"{year} is not a leap year\")\n",
    "    "
   ]
  },
  {
   "cell_type": "code",
   "execution_count": 9,
   "id": "1125910d-5ad8-4e7d-8999-aff6b4c0fd4e",
   "metadata": {},
   "outputs": [
    {
     "name": "stdin",
     "output_type": "stream",
     "text": [
      "Enter first number:  3\n",
      "Enter operator (+, -, *, /):  *\n",
      "Enter second number:  5\n"
     ]
    },
    {
     "name": "stdout",
     "output_type": "stream",
     "text": [
      "Result: 15.0\n"
     ]
    }
   ],
   "source": [
    "#Q3\n",
    "# code to build simple calculator that asks two numbers and an operator (+,-,*,/) and print result\n",
    "num1 = float(input(\"Enter first number: \"))\n",
    "op = input(\"Enter operator (+, -, *, /): \")\n",
    "num2 = float(input(\"Enter second number: \"))\n",
    "\n",
    "if op == \"+\":\n",
    "    print(\"Result:\", num1 + num2)\n",
    "elif op == \"-\":\n",
    "    print(\"Result:\", num1 - num2)\n",
    "elif op == \"*\":\n",
    "    print(\"Result:\", num1 * num2)\n",
    "elif op == \"/\":\n",
    "    if num2 != 0:\n",
    "        print(\"Result:\", num1 / num2)\n",
    "    else:\n",
    "        print(\"Error: Cannot divide by zero\")\n",
    "else:\n",
    "    print(\"Error: Invalid operator\")"
   ]
  },
  {
   "cell_type": "code",
   "execution_count": 10,
   "id": "95e76e53-ca30-4fdc-ad3b-b20914252da9",
   "metadata": {},
   "outputs": [
    {
     "name": "stdin",
     "output_type": "stream",
     "text": [
      "Enter student marks:  45\n"
     ]
    },
    {
     "name": "stdout",
     "output_type": "stream",
     "text": [
      "Grade: F\n"
     ]
    }
   ],
   "source": [
    "#Q4\n",
    "# code to that accept student marks and print appopriate grade\n",
    "marks = float(input(\"Enter student marks: \"))\n",
    "\n",
    "if marks >= 85:\n",
    "    print(\"Grade: A\")\n",
    "elif marks >= 70:\n",
    "    print(\"Grade: B\")\n",
    "elif marks >= 50:\n",
    "    print(\"Grade: C\")\n",
    "else:\n",
    "    print(\"Grade: F\")\n"
   ]
  },
  {
   "cell_type": "code",
   "execution_count": 11,
   "id": "b1146b34-37b3-44ef-9543-45ed64272aa8",
   "metadata": {},
   "outputs": [
    {
     "name": "stdin",
     "output_type": "stream",
     "text": [
      "Enter your age:  21\n",
      "Enter your income:  23000\n"
     ]
    },
    {
     "name": "stdout",
     "output_type": "stream",
     "text": [
      "Not eligible.\n"
     ]
    }
   ],
   "source": [
    "#Q5\n",
    "# code to ask user age and income for egibile membership or not \n",
    "age = int(input(\"Enter your age: \"))\n",
    "income = float(input(\"Enter your income: \"))\n",
    "\n",
    "if age >= 21 and income > 25000:\n",
    "    print(\"Eligible for membership.\")\n",
    "else:\n",
    "    print(\"Not eligible.\")"
   ]
  },
  {
   "cell_type": "code",
   "execution_count": 12,
   "id": "1d839f36-5c5d-42a0-a184-55e406cd900d",
   "metadata": {},
   "outputs": [
    {
     "name": "stdin",
     "output_type": "stream",
     "text": [
      "Enter a number:  45\n"
     ]
    },
    {
     "name": "stdout",
     "output_type": "stream",
     "text": [
      "FizzBuzz\n"
     ]
    }
   ],
   "source": [
    "#Q6\n",
    "number = int(input(\"Enter a number: \"))\n",
    "\n",
    "if number % 3 == 0 and number % 5 == 0:\n",
    "    print(\"FizzBuzz\")\n",
    "elif number % 3 == 0:\n",
    "    print(\"Fizz\")\n",
    "elif number % 5 == 0:\n",
    "    print(\"Buzz\")\n",
    "else:\n",
    "    print(number)"
   ]
  },
  {
   "cell_type": "code",
   "execution_count": 15,
   "id": "1be89129-3f45-4855-8e52-a69e6fb41e9c",
   "metadata": {},
   "outputs": [
    {
     "name": "stdin",
     "output_type": "stream",
     "text": [
      "Enter a single character:  6\n"
     ]
    },
    {
     "name": "stdout",
     "output_type": "stream",
     "text": [
      "Digit\n"
     ]
    }
   ],
   "source": [
    "#Q7\n",
    "# Character classification script\n",
    "\n",
    "char = input(\"Enter a single character: \")\n",
    "\n",
    "if len(char) != 1:\n",
    "    print(\"Please enter exactly one character.\")\n",
    "elif char.lower() in 'aeiou':\n",
    "    print(\"Vowel\")\n",
    "elif char.isalpha():\n",
    "    print(\"Consonant\")\n",
    "elif char.isdigit():\n",
    "    print(\"Digit\")\n",
    "else:\n",
    "    print(\"Special character\")"
   ]
  },
  {
   "cell_type": "code",
   "execution_count": 16,
   "id": "8ac3ab9d-44cf-4ece-83f8-75edb40a39de",
   "metadata": {},
   "outputs": [
    {
     "name": "stdin",
     "output_type": "stream",
     "text": [
      "Enter the current day (e.g., Monday, Tuesday):  monday\n"
     ]
    },
    {
     "name": "stdout",
     "output_type": "stream",
     "text": [
      "Time to work!\n"
     ]
    }
   ],
   "source": [
    "#Q8\n",
    "# Program to check if it's a weekend or a weekday\n",
    "\n",
    "day = input(\"Enter the current day (e.g., Monday, Tuesday): \")\n",
    "\n",
    "day = day.lower()\n",
    "\n",
    "if day == \"saturday\" or day == \"sunday\":\n",
    "    print(\"Enjoy your weekend!\")\n",
    "elif day == \"monday\" or day == \"tuesday\" or day == \"wednesday\" or day == \"thursday\" or day == \"friday\":\n",
    "    print(\"Time to work!\")\n",
    "else:\n",
    "    print(\"Invalid day entered.\")"
   ]
  },
  {
   "cell_type": "code",
   "execution_count": 17,
   "id": "c36ead08-6405-4c51-ae8c-c831ddefe1e8",
   "metadata": {},
   "outputs": [
    {
     "name": "stdin",
     "output_type": "stream",
     "text": [
      "Enter your years of service:  5\n",
      "Enter your current salary:  345\n"
     ]
    },
    {
     "name": "stdout",
     "output_type": "stream",
     "text": [
      "Your bonus amount is: $ 34.5\n"
     ]
    }
   ],
   "source": [
    "#Q9\n",
    "# Bonus calculator based on years of service\n",
    "\n",
    "years = int(input(\"Enter your years of service: \"))\n",
    "salary = float(input(\"Enter your current salary: \"))\n",
    "\n",
    "if years >= 10:\n",
    "    bonus = 0.20 * salary\n",
    "elif years >= 5:\n",
    "    bonus = 0.10 * salary\n",
    "else:\n",
    "    bonus = 0.05 * salary\n",
    "\n",
    "print(\"Your bonus amount is: $\", round(bonus, 2))"
   ]
  },
  {
   "cell_type": "code",
   "execution_count": 18,
   "id": "686cdd41-ba81-4367-aecb-940295f750f8",
   "metadata": {},
   "outputs": [
    {
     "name": "stdin",
     "output_type": "stream",
     "text": [
      "Enter a number:  7\n"
     ]
    },
    {
     "name": "stdout",
     "output_type": "stream",
     "text": [
      "The number is positive.\n",
      "It is odd.\n"
     ]
    }
   ],
   "source": [
    "#Q10\n",
    "# Check if a number is positive, negative, or zero\n",
    "# If positive, also check if it's even or odd\n",
    "\n",
    "num = int(input(\"Enter a number: \"))\n",
    "\n",
    "if num > 0:\n",
    "    print(\"The number is positive.\")\n",
    "    if num % 2 == 0:\n",
    "        print(\"It is even.\")\n",
    "    else:\n",
    "        print(\"It is odd.\")\n",
    "elif num < 0:\n",
    "    print(\"The number is negative.\")\n",
    "else:\n",
    "    print(\"The number is zero.\")"
   ]
  },
  {
   "cell_type": "code",
   "execution_count": null,
   "id": "6dcdc1db-5086-4b4c-becc-507573e56aa5",
   "metadata": {},
   "outputs": [],
   "source": []
  }
 ],
 "metadata": {
  "kernelspec": {
   "display_name": "Python 3 (ipykernel)",
   "language": "python",
   "name": "python3"
  },
  "language_info": {
   "codemirror_mode": {
    "name": "ipython",
    "version": 3
   },
   "file_extension": ".py",
   "mimetype": "text/x-python",
   "name": "python",
   "nbconvert_exporter": "python",
   "pygments_lexer": "ipython3",
   "version": "3.12.7"
  }
 },
 "nbformat": 4,
 "nbformat_minor": 5
}
